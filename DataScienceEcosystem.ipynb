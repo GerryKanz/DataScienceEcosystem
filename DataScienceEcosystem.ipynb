{
 "cells": [
  {
   "cell_type": "markdown",
   "id": "112f411e-8d63-43ce-9dac-b2b068d2968c",
   "metadata": {},
   "source": [
    "# Data Science Tools and Ecosystem"
   ]
  },
  {
   "cell_type": "markdown",
   "id": "888e99b3-dcc0-4f74-beaf-1a09fc270989",
   "metadata": {},
   "source": [
    "In this notebook, Data Science Tools and Ecosystem are summarized."
   ]
  },
  {
   "cell_type": "markdown",
   "id": "59d5e170-9aed-4029-b5ae-25eac18677ac",
   "metadata": {},
   "source": [
    "Some of the languages that data scientist use are:\n",
    "\n",
    "1. Python\n",
    "2. R\n",
    "3. Julia\n",
    "4. Scala\n",
    "5. SQL"
   ]
  },
  {
   "cell_type": "markdown",
   "id": "707ff22f-671e-4ff9-9888-23f0ddf54658",
   "metadata": {},
   "source": [
    "Some of the commonly used libraries used by scientists include:\n",
    "\n",
    "1. Pandas\n",
    "2. Matplotlib\n",
    "3. SciPy\n",
    "4. NumPy\n",
    "5. TensorFlow\n"
   ]
  },
  {
   "cell_type": "markdown",
   "id": "dfa3fe01-da38-4380-a5d0-069a3a496d61",
   "metadata": {},
   "source": [
    "|Data science tools|\n",
    "--------------------\n",
    "|Apache Spark|\n",
    "|Apache Hadoop|\n",
    "|Matlab|\n"
   ]
  },
  {
   "cell_type": "markdown",
   "id": "75da8265-c887-4421-95f9-a9fb7d42e833",
   "metadata": {},
   "source": [
    "### Below are a few examples of evaluating arithmetic expressions in Python "
   ]
  },
  {
   "cell_type": "code",
   "execution_count": 1,
   "id": "914ac430-8d15-4491-bb6d-67d8efb2d75a",
   "metadata": {
    "tags": []
   },
   "outputs": [
    {
     "data": {
      "text/plain": [
       "17"
      ]
     },
     "execution_count": 1,
     "metadata": {},
     "output_type": "execute_result"
    }
   ],
   "source": [
    "# This a simple arithmetic expression to mutiply then add integers\n",
    "\n",
    "(3*4)+5"
   ]
  },
  {
   "cell_type": "code",
   "execution_count": 2,
   "id": "76d2144d-1bc8-473e-8cfa-1fb4b8b2cd23",
   "metadata": {
    "tags": []
   },
   "outputs": [
    {
     "data": {
      "text/plain": [
       "3.3333333333333335"
      ]
     },
     "execution_count": 2,
     "metadata": {},
     "output_type": "execute_result"
    }
   ],
   "source": [
    "# This will convert 200 minutes to hours by diving by 60\n",
    "\n",
    "(200/60)"
   ]
  },
  {
   "cell_type": "markdown",
   "id": "8c0ace7b-758a-402e-b18a-ef7f1022e135",
   "metadata": {},
   "source": [
    "**Objectives:**\n",
    "\n",
    "* list popular languages for data science\n",
    "* list Commonly used libraries in data science\n",
    "* create a table of data science tools\n",
    "* Evaluate an expression, multiplying and adding numbers\n",
    "* converting minutes to hours\n"
   ]
  },
  {
   "cell_type": "code",
   "execution_count": null,
   "id": "f5b7ec5f-94af-4b40-9378-721625fa6f67",
   "metadata": {},
   "outputs": [],
   "source": []
  },
  {
   "cell_type": "markdown",
   "id": "b46eabb8-9854-4274-b71c-ccd164d51bf9",
   "metadata": {},
   "source": [
    "## Author\n",
    "Gerald"
   ]
  },
  {
   "cell_type": "code",
   "execution_count": null,
   "id": "2c7144a8-1be6-402d-a9ff-863931d1effd",
   "metadata": {},
   "outputs": [],
   "source": []
  }
 ],
 "metadata": {
  "kernelspec": {
   "display_name": "Python",
   "language": "python",
   "name": "conda-env-python-py"
  },
  "language_info": {
   "codemirror_mode": {
    "name": "ipython",
    "version": 3
   },
   "file_extension": ".py",
   "mimetype": "text/x-python",
   "name": "python",
   "nbconvert_exporter": "python",
   "pygments_lexer": "ipython3",
   "version": "3.7.12"
  }
 },
 "nbformat": 4,
 "nbformat_minor": 5
}
